{
 "cells": [
  {
   "cell_type": "raw",
   "metadata": {},
   "source": [
    "The purpose of this notebook is to perform feature engineering and create a predictive model for the given dataset"
   ]
  },
  {
   "cell_type": "code",
   "execution_count": 1,
   "metadata": {},
   "outputs": [],
   "source": [
    "import pandas\n",
    "import numpy as np\n",
    "from sklearn.model_selection import train_test_split\n",
    "\n",
    "#Load of the dataset and split in training and test set\n",
    "dataset = pandas.read_csv('edit_intention_dataset_featured.csv', sep=',')\n",
    "X, y = dataset.iloc[:, :-14], dataset.iloc[:, -14:]\n",
    "kwargs = dict(test_size=0.2, random_state=1)\n",
    "X_train, X_test, y_train, y_test = train_test_split(X, y, **kwargs)\n",
    "\n",
    "#Now we have the test and set splits done and the data is ready to be analyzed and modeled.\n"
   ]
  },
  {
   "cell_type": "code",
   "execution_count": 2,
   "metadata": {},
   "outputs": [],
   "source": [
    "# Feature importance plot. Input the training data and the trained model\n",
    "def plot_feature_importances(data,attribute_names,model):\n",
    "    n_features = data.shape[1]\n",
    "    plt.barh(range(n_features), model.feature_importances_, align='center')\n",
    "    plt.yticks(np.arange(n_features), attribute_names)\n",
    "    plt.xlabel(\"Feature importance\")\n",
    "    plt.ylabel(\"Feature\")\n",
    "    plt.ylim(-1, n_features)\n",
    "# Shows the predictions of multiple models.\n",
    "# Property_index is the index of the most relevant feature (0 by default if feature selection was applied correctly)\n",
    "def plot_predictions(X_train, X_test, y_train, y_test, models, property_index=0):\n",
    "    \n",
    "    X_all = np.concatenate((X_train, X_test),axis=0)\n",
    "    \n",
    "    plt.figure(figsize=(8,6))\n",
    "    plt.rcParams['lines.linewidth'] = 1\n",
    "\n",
    "    prop = X_all[:,property_index]\n",
    "    prop_train = X_train[:,property_index]\n",
    "    prop_test = X_test[:,property_index]\n",
    "\n",
    "\n",
    "    sort_all = prop.argsort()\n",
    "    sort_train = prop_train.argsort()\n",
    "    sort_test = prop_test.argsort()\n",
    "\n",
    "    plt.scatter(prop_train[sort_train], y_train[sort_train], label=\"Training data\")\n",
    "    plt.scatter(prop_test[sort_test], y_test[sort_test], label=\"Test data\")\n",
    "    for name, model in models.items():\n",
    "        predictions = model.predict(X_all)\n",
    "        plt.plot(prop[sort_all], predictions[sort_all], label=name)\n",
    "    plt.xlabel(\"x\")\n",
    "    plt.ylabel(\"Vandalism\");\n",
    "    plt.legend()"
   ]
  },
  {
   "cell_type": "code",
   "execution_count": 3,
   "metadata": {},
   "outputs": [
    {
     "name": "stderr",
     "output_type": "stream",
     "text": [
      "C:\\Users\\IgnacioGarcia\\Anaconda3\\lib\\site-packages\\sklearn\\ensemble\\forest.py:246: FutureWarning: The default value of n_estimators will change from 10 in version 0.20 to 100 in 0.22.\n",
      "  \"10 in version 0.20 to 100 in 0.22.\", FutureWarning)\n",
      "C:\\Users\\IgnacioGarcia\\Anaconda3\\lib\\site-packages\\sklearn\\ensemble\\forest.py:246: FutureWarning: The default value of n_estimators will change from 10 in version 0.20 to 100 in 0.22.\n",
      "  \"10 in version 0.20 to 100 in 0.22.\", FutureWarning)\n",
      "C:\\Users\\IgnacioGarcia\\Anaconda3\\lib\\site-packages\\sklearn\\ensemble\\forest.py:246: FutureWarning: The default value of n_estimators will change from 10 in version 0.20 to 100 in 0.22.\n",
      "  \"10 in version 0.20 to 100 in 0.22.\", FutureWarning)\n"
     ]
    },
    {
     "name": "stdout",
     "output_type": "stream",
     "text": [
      "LogisticRegression test score with only selected features: 0.982\n",
      "LogisticRegression score with all features: 0.984\n"
     ]
    }
   ],
   "source": [
    "from sklearn.feature_selection import SelectFromModel\n",
    "from sklearn.ensemble import RandomForestClassifier\n",
    "from sklearn.linear_model import LogisticRegression\n",
    "from matplotlib import pyplot as plt\n",
    "#This approach is called Model-based feature selection. \n",
    "#The model judges the importance of each feature and select\n",
    "#only the most important ones.\n",
    "\n",
    "select = SelectFromModel(\n",
    "    RandomForestClassifier(),\n",
    "    threshold=\"median\")\n",
    "select.fit(X_train, y_train['vandalism'])\n",
    "X_train_l1 = select.transform(X_train)\n",
    "mask = select.get_support()\n",
    "# visualize the mask. black is True, white is False\n",
    "plt.matshow(mask.reshape(1, -1), cmap='gray_r')\n",
    "plt.xlabel(\"Sample index\");\n",
    "\n",
    "X_test_l1 = select.transform(X_test)\n",
    "score = RandomForestClassifier().fit(X_train_l1, y_train['vandalism']).score(X_test_l1, y_test['vandalism'])\n",
    "print(\"LogisticRegression test score with only selected features: {:.3f}\".format(score))\n",
    "lr = RandomForestClassifier()\n",
    "lr.fit(X_train, y_train['vandalism'])\n",
    "print(\"LogisticRegression score with all features: {:.3f}\".format(lr.score(X_test, y_test['vandalism'])))\n",
    "\n",
    "\n"
   ]
  },
  {
   "cell_type": "code",
   "execution_count": 4,
   "metadata": {},
   "outputs": [
    {
     "name": "stderr",
     "output_type": "stream",
     "text": [
      "C:\\Users\\IgnacioGarcia\\Anaconda3\\lib\\site-packages\\sklearn\\feature_selection\\univariate_selection.py:114: UserWarning: Features [  2   3 181 188 189 192 193] are constant.\n",
      "  UserWarning)\n",
      "C:\\Users\\IgnacioGarcia\\Anaconda3\\lib\\site-packages\\sklearn\\feature_selection\\univariate_selection.py:115: RuntimeWarning: invalid value encountered in true_divide\n",
      "  f = msb / msw\n",
      "C:\\Users\\IgnacioGarcia\\Anaconda3\\lib\\site-packages\\sklearn\\ensemble\\forest.py:246: FutureWarning: The default value of n_estimators will change from 10 in version 0.20 to 100 in 0.22.\n",
      "  \"10 in version 0.20 to 100 in 0.22.\", FutureWarning)\n",
      "C:\\Users\\IgnacioGarcia\\Anaconda3\\lib\\site-packages\\pandas\\core\\series.py:842: FutureWarning: \n",
      "Passing list-likes to .loc or [] with any missing label will raise\n",
      "KeyError in the future, you can use .reindex() as an alternative.\n",
      "\n",
      "See the documentation here:\n",
      "https://pandas.pydata.org/pandas-docs/stable/indexing.html#deprecate-loc-reindex-listlike\n",
      "  return self.loc[key]\n"
     ]
    },
    {
     "name": "stdout",
     "output_type": "stream",
     "text": [
      "LogisticRegression score with all features: 0.983\n",
      "LogisticRegression score with only selected features: 0.983\n"
     ]
    },
    {
     "data": {
      "image/png": "[encoded data removed]",
      "text/plain": [
       "<Figure size 1152x144 with 1 Axes>"
      ]
     },
     "metadata": {
      "needs_background": "light"
     },
     "output_type": "display_data"
    },
    {
     "data": {
      "image/png": "[encoded data removed]",
      "text/plain": [
       "<Figure size 576x432 with 1 Axes>"
      ]
     },
     "metadata": {
      "needs_background": "light"
     },
     "output_type": "display_data"
    }
   ],
   "source": [
    "from sklearn.linear_model import LogisticRegression\n",
    "from sklearn.feature_selection import SelectPercentile\n",
    "#This approach is based on the selection of only a fixed chosen % of attributes, the most valuable ones.\n",
    "\n",
    "#Used to select the #percentile most valuable for the model\n",
    "select = SelectPercentile(percentile=50)\n",
    "select.fit(X_train, y_train['vandalism'])\n",
    "# transform training set:\n",
    "X_train_selected = select.transform(X_train)\n",
    "\n",
    "mask = select.get_support()\n",
    "# visualize the mask. black is True, white is False\n",
    "plt.matshow(mask.reshape(1, -1), cmap='gray_r')\n",
    "plt.xlabel(\"Sample index\");\n",
    "\n",
    "# transform test data:\n",
    "X_test_selected = select.transform(X_test)\n",
    "\n",
    "lr = RandomForestClassifier()\n",
    "lr.fit(X_train, y_train['vandalism'])\n",
    "print(\"LogisticRegression score with all features: {:.3f}\".format(lr.score(X_test, y_test['vandalism'])))\n",
    "lr.fit(X_train_selected, y_train['vandalism'])\n",
    "print(\"LogisticRegression score with only selected features: {:.3f}\".format(\n",
    "        lr.score(X_test_selected, y_test['vandalism'])))\n",
    "\n",
    "models = {'RandomForestClassifier':lr}\n",
    "plot_predictions(X_train_selected, X_test_selected, y_train['vandalism'], y_test['vandalism'], models, property_index=0)\n"
   ]
  },
  {
   "cell_type": "code",
   "execution_count": 5,
   "metadata": {},
   "outputs": [
    {
     "data": {
      "text/plain": [
       "0.9832893579595426"
      ]
     },
     "execution_count": 5,
     "metadata": {},
     "output_type": "execute_result"
    }
   ],
   "source": [
    "from sklearn.metrics import f1_score\n",
    "\n",
    "predicted = lr.predict(X_test_selected)\n",
    "f1_score(y_test['vandalism'], predicted, average = 'micro')"
   ]
  },
  {
   "cell_type": "code",
   "execution_count": 41,
   "metadata": {
    "scrolled": false
   },
   "outputs": [
    {
     "name": "stdout",
     "output_type": "stream",
     "text": [
      "Predicting labels for counter-vandalism\n",
      "Predicting labels for fact-update\n",
      "Predicting labels for refactoring\n",
      "Predicting labels for copy-editing\n",
      "Predicting labels for other\n",
      "Predicting labels for wikification\n",
      "Predicting labels for vandalism\n",
      "Predicting labels for simplification\n",
      "Predicting labels for elaboration\n",
      "Predicting labels for verifiability\n",
      "Predicting labels for process\n",
      "Predicting labels for clarification\n",
      "Predicting labels for disambiguation\n",
      "Predicting labels for point-of-view\n"
     ]
    }
   ],
   "source": [
    "#Dummie to test the predictions of the article leche\n",
    "#Tried to merge the dataframes of each intention into a complete one but\n",
    "#was unable to do it, had to usea cheap version with a dictionary\n",
    "\n",
    "leche = pandas.read_csv('revision_ids_leche_featured.csv', sep=',')\n",
    "X_leche, y_leche = leche.iloc[:, :-14], dataset.iloc[:, -14:]\n",
    "\n",
    "intentions = ['counter-vandalism','fact-update','refactoring','copy-editing','other','wikification',\n",
    "            'vandalism','simplification','elaboration','verifiability','process','clarification','disambiguation',\n",
    "            'point-of-view']\n",
    "\n",
    "#results = pandas.DataFrame(columns = intentions)\n",
    "results = {'revision_id':[],'counter-vandalism':[],'fact-update':[],'refactoring':[],'copy-editing':[],'other':[],'wikification':[],\n",
    "            'vandalism':[],'simplification':[],'elaboration':[],'verifiability':[],'process':[],'clarification':[],'disambiguation':[],\n",
    "            'point-of-view':[]}\n",
    "\n",
    "results['revision_id'] = leche.iloc[:,0]\n",
    "\n",
    "for intention in intentions:\n",
    "    \n",
    "    #results_intention = pandas.Series([], name = intention)\n",
    "    #results_intention = pandas.DataFrame( columns = [intention])\n",
    "    \n",
    "    print(\"Predicting labels for \" + intention)\n",
    "    \n",
    "    lr.fit(X_train, y_train[intention])\n",
    "    predictions_leche = lr.predict(X_leche)\n",
    "    \n",
    "    for line in predictions_leche:\n",
    "        #results_intention = results_intention.append({intention:line}, ignore_index = True)\n",
    "        #results_intention.add(line)\n",
    "        #results.loc[results.index[counter], intention] = line\n",
    "        results[intention].append(line)\n",
    "        \n",
    "results_dataframe = pandas.DataFrame.from_dict(results)\n",
    "    #results = pandas.concat([results,results_intention], axis = 1, sort = False)\n",
    "    #results = results.merge(results_intention, how = 'outer')\n",
    "      \n",
    "\n",
    "results_dataframe.to_csv(path_or_buf = 'leche_labels.csv', index = False)\n",
    "\n",
    "\n"
   ]
  },
  {
   "cell_type": "code",
   "execution_count": 107,
   "metadata": {},
   "outputs": [],
   "source": [
    "#Now the idea is to add the created labels to the initial parsed dump\n",
    "\n",
    "output = pandas.read_csv('leche.csv', sep=',')\n",
    "\n",
    "attributes = {'page_id':[], 'page_title':[], 'page_ns':[], 'revision_id':[],'intentionality':[],'timestamp':[],\n",
    "       'contributor_id':[], 'contributor_name':[], 'bytes':[]}\n",
    "\n",
    "#values = {'counter-vandalism':'0','fact-update':'1','refactoring':'2','copy-editing':'3','other':'4','wikification':'5',\n",
    "#            'vandalism':'6','simplification':'7','elaboration':'8','verifiability':'9','process':'10','clarification':'11',\n",
    "#          'disambiguation':'12','point-of-view':'13'}\n",
    "\n",
    "labels = [None] * len(results_dataframe.index)\n",
    "\n",
    "\n",
    "\n",
    "#output = pandas.DataFrame.to_dict(output)\n",
    "\n",
    "for intention in intentions:\n",
    "    \n",
    "    offset = 0\n",
    "    \n",
    "    for line in results[intention]:\n",
    "        \n",
    "        if labels[offset] == None:\n",
    "            labels[offset] = str(results['revision_id'][offset]) + ':'\n",
    "        if line == 1:\n",
    "            labels[offset] = labels[offset] + intention + ','\n",
    "        \n",
    "        offset += 1\n",
    "\n",
    "        \n",
    "labels_dataframe = pandas.DataFrame(columns=['revision_id', 'intentionality'])\n",
    "for line in labels:\n",
    "   \n",
    "    data = line.split(':')\n",
    "    data_id = data[0]\n",
    "    data_intention = data[1]\n",
    "    \n",
    "    data = pandas.DataFrame({'revision_id':[data_id],'intentionality':[data_intention]})\n",
    "    labels_dataframe = labels_dataframe.append(data)\n",
    "\n",
    "\n",
    "labels_dataframe['revision_id']=labels_dataframe['revision_id'].astype(int)\n",
    "output = output.merge(labels_dataframe, on = 'revision_id', how = 'inner')\n",
    "\n",
    "\n",
    "output.to_csv(path_or_buf = 'leche_dataset_process_mining.csv', index = False)\n"
   ]
  },
  {
   "cell_type": "code",
   "execution_count": null,
   "metadata": {},
   "outputs": [],
   "source": []
  }
 ],
 "metadata": {
  "kernelspec": {
   "display_name": "Python 3",
   "language": "python",
   "name": "python3"
  },
  "language_info": {
   "codemirror_mode": {
    "name": "ipython",
    "version": 3
   },
   "file_extension": ".py",
   "mimetype": "text/x-python",
   "name": "python",
   "nbconvert_exporter": "python",
   "pygments_lexer": "ipython3",
   "version": "3.7.1"
  }
 },
 "nbformat": 4,
 "nbformat_minor": 2
}
